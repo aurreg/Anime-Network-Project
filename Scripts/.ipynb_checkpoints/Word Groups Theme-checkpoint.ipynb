{
 "cells": [
  {
   "cell_type": "code",
   "execution_count": 7,
   "id": "c672196f-25b5-4516-b053-3f3a5677d800",
   "metadata": {},
   "outputs": [],
   "source": [
    "import pandas as pd   # For data manipulations\n",
    "import numpy as np    # For maths\n",
    "import igraph as ig   # For networks \n",
    "import openai        # AI implementations\n",
    "from dotenv import load_dotenv\n",
    "\n",
    "import os\n",
    "load_dotenv()\n",
    "openai.api_key = os.getenv('OPENAI_API_KEY')"
   ]
  },
  {
   "cell_type": "code",
   "execution_count": 8,
   "id": "530998d1-99f5-4dd6-9150-1273e78452d6",
   "metadata": {},
   "outputs": [],
   "source": [
    "data_folder_path = os.path.dirname(os.getcwd()) + os.sep + 'Outputs' + os.sep"
   ]
  },
  {
   "cell_type": "code",
   "execution_count": 9,
   "id": "46e5c9d6-9f64-490b-8feb-8339819d6d9a",
   "metadata": {},
   "outputs": [
    {
     "data": {
      "text/html": [
       "<div>\n",
       "<style scoped>\n",
       "    .dataframe tbody tr th:only-of-type {\n",
       "        vertical-align: middle;\n",
       "    }\n",
       "\n",
       "    .dataframe tbody tr th {\n",
       "        vertical-align: top;\n",
       "    }\n",
       "\n",
       "    .dataframe thead th {\n",
       "        text-align: right;\n",
       "    }\n",
       "</style>\n",
       "<table border=\"1\" class=\"dataframe\">\n",
       "  <thead>\n",
       "    <tr style=\"text-align: right;\">\n",
       "      <th></th>\n",
       "      <th>word</th>\n",
       "      <th>cluster</th>\n",
       "    </tr>\n",
       "  </thead>\n",
       "  <tbody>\n",
       "    <tr>\n",
       "      <th>0</th>\n",
       "      <td>music</td>\n",
       "      <td>8</td>\n",
       "    </tr>\n",
       "    <tr>\n",
       "      <th>1</th>\n",
       "      <td>song</td>\n",
       "      <td>4</td>\n",
       "    </tr>\n",
       "    <tr>\n",
       "      <th>2</th>\n",
       "      <td>minna</td>\n",
       "      <td>9</td>\n",
       "    </tr>\n",
       "    <tr>\n",
       "      <th>3</th>\n",
       "      <td>school</td>\n",
       "      <td>13</td>\n",
       "    </tr>\n",
       "    <tr>\n",
       "      <th>4</th>\n",
       "      <td>series</td>\n",
       "      <td>3</td>\n",
       "    </tr>\n",
       "    <tr>\n",
       "      <th>...</th>\n",
       "      <td>...</td>\n",
       "      <td>...</td>\n",
       "    </tr>\n",
       "    <tr>\n",
       "      <th>239</th>\n",
       "      <td>commercial</td>\n",
       "      <td>3</td>\n",
       "    </tr>\n",
       "    <tr>\n",
       "      <th>240</th>\n",
       "      <td>independent</td>\n",
       "      <td>18</td>\n",
       "    </tr>\n",
       "    <tr>\n",
       "      <th>241</th>\n",
       "      <td>popular</td>\n",
       "      <td>3</td>\n",
       "    </tr>\n",
       "    <tr>\n",
       "      <th>242</th>\n",
       "      <td>fierce</td>\n",
       "      <td>6</td>\n",
       "    </tr>\n",
       "    <tr>\n",
       "      <th>243</th>\n",
       "      <td>recap</td>\n",
       "      <td>12</td>\n",
       "    </tr>\n",
       "  </tbody>\n",
       "</table>\n",
       "<p>244 rows × 2 columns</p>\n",
       "</div>"
      ],
      "text/plain": [
       "            word  cluster\n",
       "0          music        8\n",
       "1           song        4\n",
       "2          minna        9\n",
       "3         school       13\n",
       "4         series        3\n",
       "..           ...      ...\n",
       "239   commercial        3\n",
       "240  independent       18\n",
       "241      popular        3\n",
       "242       fierce        6\n",
       "243        recap       12\n",
       "\n",
       "[244 rows x 2 columns]"
      ]
     },
     "execution_count": 9,
     "metadata": {},
     "output_type": "execute_result"
    }
   ],
   "source": [
    "clusters = pd.read_csv(data_folder_path + 'clusters.csv')\n",
    "clusters"
   ]
  },
  {
   "cell_type": "code",
   "execution_count": 10,
   "id": "39e7fc56-9d15-405e-b08c-c2aafaed7ca3",
   "metadata": {},
   "outputs": [],
   "source": [
    "diccionario = {}\n",
    "for i in set(clusters['cluster']):\n",
    "    diccionario['cluster '+str(i)] = clusters.query('cluster==@i')['word'].tolist()\n"
   ]
  },
  {
   "cell_type": "code",
   "execution_count": 11,
   "id": "0d4953ca-1fca-45f6-ae5b-63fb715e59bf",
   "metadata": {},
   "outputs": [],
   "source": [
    "PromptInicio = [\n",
    "    'Utilizando el diccionario de clusters de palabras proporcionado a continuación, extrae el tema o tópico que más se relacione con cada cluster:',\n",
    "    'Ten en cuenta que las palabras fueron obtenidas mediante un método de agrupamiento de una red asociada a bigramas sacados de un texto, también ten en cuenta que las palabras vienen de mayor a menor importancia'\n",
    "]\n",
    "PromptFinal = [\n",
    "    'Al momento de devolver los datos contesta con el siguiente formato: Numerodecluster:[dato] TemaoTopicoPrincipal:[dato] Solo contesta con el formato suministrado. Ten en cuenta que los datos vienen de descripciones de animes'\n",
    "]\n",
    "\n",
    "# Constructing the request by joining prompts, dictionary, and final prompts\n",
    "request = \" \".join(PromptInicio) + str(diccionario) + \" \".join(PromptFinal)"
   ]
  },
  {
   "cell_type": "code",
   "execution_count": 12,
   "id": "a20528e8-a1b8-4974-a940-8082745612ee",
   "metadata": {},
   "outputs": [],
   "source": [
    "request = request\n",
    "chat_completion = openai.chat.completions.create(\n",
    "    messages=[\n",
    "        {\n",
    "            \"role\": \"user\",\n",
    "            \"content\": request,\n",
    "        }\n",
    "    ],\n",
    "    model=\"gpt-4-1106-preview\",\n",
    "    max_tokens=2000,  # Increase the number of tokens allowed\n",
    "    temperature=0.7,  # Reduce \"creativity\" to obtain precise responses\n",
    "    top_p=1,  # Adjust maximum probability to ensure precise responses\n",
    ")\n",
    "respuesta = chat_completion.choices[0].message.content\n"
   ]
  },
  {
   "cell_type": "code",
   "execution_count": 13,
   "id": "81b99909-a821-498c-8882-97a5320ffb47",
   "metadata": {},
   "outputs": [
    {
     "name": "stdout",
     "output_type": "stream",
     "text": [
      "Cluster 1: Tema o Tópico Principal: Vida escolar y relaciones juveniles\n",
      "Cluster 2: Tema o Tópico Principal: Contenido infantil y literatura\n",
      "Cluster 3: Tema o Tópico Principal: Producción y adaptación de medios animados\n",
      "Cluster 4: Tema o Tópico Principal: Música y bandas\n",
      "Cluster 5: Tema o Tópico Principal: Romance y emociones humanas\n",
      "Cluster 6: Tema o Tópico Principal: Conflictos y guerras\n",
      "Cluster 7: Tema o Tópico Principal: Fantasía y poderes sobrenaturales\n",
      "Cluster 8: Tema o Tópico Principal: Distribución de medios y redes sociales\n",
      "Cluster 9: Tema o Tópico Principal: Videojuegos y promoción\n",
      "Cluster 10: Tema o Tópico Principal: Desarrollo de personajes\n",
      "Cluster 11: Tema o Tópico Principal: Viajes y exploración\n",
      "Cluster 12: Tema o Tópico Principal: Lanzamientos y ediciones de medios\n",
      "Cluster 13: Tema o Tópico Principal: Vida escolar y crecimiento personal\n",
      "Cluster 14: Tema o Tópico Principal: Vida familiar y amistad\n",
      "Cluster 15: Tema o Tópico Principal: Deportes y competiciones de equipo\n",
      "Cluster 16: Tema o Tópico Principal: Navegación web y actualizaciones\n",
      "Cluster 17: Tema o Tópico Principal: Ciencia ficción y salvación\n",
      "Cluster 18: Tema o Tópico Principal: Técnicas de animación\n"
     ]
    }
   ],
   "source": [
    "print(respuesta)"
   ]
  }
 ],
 "metadata": {
  "kernelspec": {
   "display_name": "Python 3 (ipykernel)",
   "language": "python",
   "name": "python3"
  },
  "language_info": {
   "codemirror_mode": {
    "name": "ipython",
    "version": 3
   },
   "file_extension": ".py",
   "mimetype": "text/x-python",
   "name": "python",
   "nbconvert_exporter": "python",
   "pygments_lexer": "ipython3",
   "version": "3.12.3"
  }
 },
 "nbformat": 4,
 "nbformat_minor": 5
}
