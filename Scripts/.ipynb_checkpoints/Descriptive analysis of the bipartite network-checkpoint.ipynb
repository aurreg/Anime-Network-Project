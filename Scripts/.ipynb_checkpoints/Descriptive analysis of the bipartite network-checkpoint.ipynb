{
 "cells": [
  {
   "cell_type": "markdown",
   "id": "f223f953-3365-44cd-bfbe-1ba3feebf35e",
   "metadata": {},
   "source": [
    "# DESCRIPTIVE ANALYSIS OF THE BIPARTITE NETWORK\n",
    "\n",
    "**Authors**\n",
    "- Alejandro Urrego Lopéz\n",
    "- Cesar Augusto Prieto Sarmiento\n",
    "\n",
    "In this Jupyter workbook you will find the development of the Descriptive analysis of the Bipartite Network, from the import of the necessary libraries to the preparation of the data and the methods used for the corresponding analysis. "
   ]
  },
  {
   "cell_type": "markdown",
   "id": "c8f1bf29-b212-48c7-88c8-b4791ab2379a",
   "metadata": {},
   "source": [
    "## Import necessary libraries"
   ]
  },
  {
   "cell_type": "code",
   "execution_count": 1,
   "id": "d5037dcf-ef28-42c5-9c1d-44ecd0d7415e",
   "metadata": {},
   "outputs": [],
   "source": [
    "import pandas as pd\n",
    "import numpy as np\n",
    "import igraph as ig\n",
    "import random \n",
    "from plotnine import *\n",
    "import matplotlib.pyplot as plt\n",
    "pd.options.display.float_format = '{:,.2f}'.format\n",
    "import pickle\n",
    "import matplotlib.colors as mcolors\n",
    "import os\n",
    "\n",
    "# Set the desired directory path\n",
    "# path = r\"C:\\Users\\Pc\\Desktop\\Redes\\Data\"\n",
    "# os.chdir(path)"
   ]
  },
  {
   "cell_type": "markdown",
   "id": "d6786e43-73bf-4ebb-bd64-ff42d9c81815",
   "metadata": {},
   "source": [
    "## Definition of important functions"
   ]
  },
  {
   "cell_type": "code",
   "execution_count": 2,
   "id": "0b599cf1-bd11-459d-832e-a3f6a5da99c1",
   "metadata": {},
   "outputs": [],
   "source": [
    "import hashlib\n",
    "# codigo adaptado de chat gpt\n",
    "def get_color(integer, alpha=1.0):\n",
    "    # Convert the integer to a unique string using hashing\n",
    "    hash_object = hashlib.sha256(str(integer).encode())\n",
    "    hex_dig = hash_object.hexdigest()\n",
    "    # Convert the hexadecimal hash to RGB values\n",
    "    r = int(hex_dig[:2], 16) % 256\n",
    "    g = int(hex_dig[2:4], 16) % 256\n",
    "    b = int(hex_dig[4:6], 16) % 256\n",
    "    # Format RGB values into a color string\n",
    "    color = \"#{:02x}{:02x}{:02x}\".format(r, g, b)\n",
    "    # Return RGB values and alpha\n",
    "    return (r / 255, g / 255, b / 255, alpha)\n",
    "def get_colors_for_list(integer_list, alpha=1.0):\n",
    "    colors = []\n",
    "    for integer in integer_list:\n",
    "        color = get_color(integer, alpha=alpha)\n",
    "        colors.append(color)\n",
    "    return colors\n"
   ]
  },
  {
   "cell_type": "code",
   "execution_count": 3,
   "id": "10041429-f1be-46ff-bcb7-5a22d51059dc",
   "metadata": {},
   "outputs": [],
   "source": [
    "\n",
    "# adaptado de chat gpt \n",
    "def adjustcolor(color_name, alpha):\n",
    "    # Convertir nombre de color a RGB\n",
    "    rgb = mcolors.CSS4_COLORS.get(color_name)\n",
    "    if rgb is None:\n",
    "        raise ValueError(f\"El color '{color_name}' no es válido.\")\n",
    "    \n",
    "    # Convertir RGB a hexadecimal\n",
    "    r, g, b = mcolors.to_rgb(rgb)\n",
    "    hex_color = f'#{int(r*255):02x}{int(g*255):02x}{int(b*255):02x}'\n",
    "    \n",
    "    # Agregar canal alpha\n",
    "    return f'{hex_color}{int(255 * alpha):02x}'\n",
    "\n"
   ]
  },
  {
   "cell_type": "markdown",
   "id": "16f9af6c-3c4f-4e51-8a91-8a710f0a3acc",
   "metadata": {},
   "source": [
    "## Import and manipulation of the database "
   ]
  },
  {
   "cell_type": "code",
   "execution_count": 4,
   "id": "85bd80d8-ea30-47e1-84c3-fb769fbf3162",
   "metadata": {},
   "outputs": [],
   "source": [
    "data_folder_path = os.path.dirname(os.getcwd()) + os.sep + 'Data' + os.sep"
   ]
  },
  {
   "cell_type": "code",
   "execution_count": 5,
   "id": "70b4a2eb-b893-4f67-9249-d99d4436e805",
   "metadata": {},
   "outputs": [],
   "source": [
    "usuarios=pd.read_csv(data_folder_path + 'animelist.csv',\n",
    "                     na_values=[\"Unknown\"],\n",
    "                     header=0,\n",
    "                     usecols=[0,1,2,3],\n",
    "                     names=[\"user_id\",\"anime_id\",\"rating\" ,\"watching_status\"],\n",
    "                     dtype={\"user_id\":str,\"anime_id\":str,\"rating\":np.float64,\"watching_status\":np.float64})"
   ]
  },
  {
   "cell_type": "code",
   "execution_count": 6,
   "id": "40123a21-23cc-41d9-817b-048914b6cec6",
   "metadata": {},
   "outputs": [],
   "source": [
    "IndicesMuestra=pd.read_csv(data_folder_path + 'muestras.txt',dtype={'muestras':str})"
   ]
  },
  {
   "cell_type": "code",
   "execution_count": 7,
   "id": "71913dc8-2201-4de3-9615-bbcbed8f026e",
   "metadata": {},
   "outputs": [],
   "source": [
    "IndicesMuestra=IndicesMuestra['muestras']"
   ]
  },
  {
   "cell_type": "code",
   "execution_count": 8,
   "id": "64702751-6227-4dae-b68f-797083d00d29",
   "metadata": {},
   "outputs": [],
   "source": [
    "anime=pd.read_csv(data_folder_path + 'anime.csv', dtype={'MAL_ID':str})"
   ]
  },
  {
   "cell_type": "code",
   "execution_count": 9,
   "id": "70b1c085-62fd-43f1-9d43-c897884c33eb",
   "metadata": {},
   "outputs": [
    {
     "data": {
      "text/html": [
       "<div>\n",
       "<style scoped>\n",
       "    .dataframe tbody tr th:only-of-type {\n",
       "        vertical-align: middle;\n",
       "    }\n",
       "\n",
       "    .dataframe tbody tr th {\n",
       "        vertical-align: top;\n",
       "    }\n",
       "\n",
       "    .dataframe thead th {\n",
       "        text-align: right;\n",
       "    }\n",
       "</style>\n",
       "<table border=\"1\" class=\"dataframe\">\n",
       "  <thead>\n",
       "    <tr style=\"text-align: right;\">\n",
       "      <th></th>\n",
       "      <th>id</th>\n",
       "      <th>Name</th>\n",
       "      <th>Score</th>\n",
       "      <th>Genres</th>\n",
       "    </tr>\n",
       "  </thead>\n",
       "  <tbody>\n",
       "    <tr>\n",
       "      <th>0</th>\n",
       "      <td>1</td>\n",
       "      <td>Cowboy Bebop</td>\n",
       "      <td>8.78</td>\n",
       "      <td>Action, Adventure, Comedy, Drama, Sci-Fi, Space</td>\n",
       "    </tr>\n",
       "    <tr>\n",
       "      <th>1</th>\n",
       "      <td>5</td>\n",
       "      <td>Cowboy Bebop: Tengoku no Tobira</td>\n",
       "      <td>8.39</td>\n",
       "      <td>Action, Drama, Mystery, Sci-Fi, Space</td>\n",
       "    </tr>\n",
       "    <tr>\n",
       "      <th>2</th>\n",
       "      <td>6</td>\n",
       "      <td>Trigun</td>\n",
       "      <td>8.24</td>\n",
       "      <td>Action, Sci-Fi, Adventure, Comedy, Drama, Shounen</td>\n",
       "    </tr>\n",
       "    <tr>\n",
       "      <th>3</th>\n",
       "      <td>7</td>\n",
       "      <td>Witch Hunter Robin</td>\n",
       "      <td>7.27</td>\n",
       "      <td>Action, Mystery, Police, Supernatural, Drama, ...</td>\n",
       "    </tr>\n",
       "    <tr>\n",
       "      <th>4</th>\n",
       "      <td>8</td>\n",
       "      <td>Bouken Ou Beet</td>\n",
       "      <td>6.98</td>\n",
       "      <td>Adventure, Fantasy, Shounen, Supernatural</td>\n",
       "    </tr>\n",
       "    <tr>\n",
       "      <th>...</th>\n",
       "      <td>...</td>\n",
       "      <td>...</td>\n",
       "      <td>...</td>\n",
       "      <td>...</td>\n",
       "    </tr>\n",
       "    <tr>\n",
       "      <th>17557</th>\n",
       "      <td>48481</td>\n",
       "      <td>Daomu Biji Zhi Qinling Shen Shu</td>\n",
       "      <td>Unknown</td>\n",
       "      <td>Adventure, Mystery, Supernatural</td>\n",
       "    </tr>\n",
       "    <tr>\n",
       "      <th>17558</th>\n",
       "      <td>48483</td>\n",
       "      <td>Mieruko-chan</td>\n",
       "      <td>Unknown</td>\n",
       "      <td>Comedy, Horror, Supernatural</td>\n",
       "    </tr>\n",
       "    <tr>\n",
       "      <th>17559</th>\n",
       "      <td>48488</td>\n",
       "      <td>Higurashi no Naku Koro ni Sotsu</td>\n",
       "      <td>Unknown</td>\n",
       "      <td>Mystery, Dementia, Horror, Psychological, Supe...</td>\n",
       "    </tr>\n",
       "    <tr>\n",
       "      <th>17560</th>\n",
       "      <td>48491</td>\n",
       "      <td>Yama no Susume: Next Summit</td>\n",
       "      <td>Unknown</td>\n",
       "      <td>Adventure, Slice of Life, Comedy</td>\n",
       "    </tr>\n",
       "    <tr>\n",
       "      <th>17561</th>\n",
       "      <td>48492</td>\n",
       "      <td>Scarlet Nexus</td>\n",
       "      <td>Unknown</td>\n",
       "      <td>Action, Fantasy</td>\n",
       "    </tr>\n",
       "  </tbody>\n",
       "</table>\n",
       "<p>17562 rows × 4 columns</p>\n",
       "</div>"
      ],
      "text/plain": [
       "          id                             Name    Score  \\\n",
       "0          1                     Cowboy Bebop     8.78   \n",
       "1          5  Cowboy Bebop: Tengoku no Tobira     8.39   \n",
       "2          6                           Trigun     8.24   \n",
       "3          7               Witch Hunter Robin     7.27   \n",
       "4          8                   Bouken Ou Beet     6.98   \n",
       "...      ...                              ...      ...   \n",
       "17557  48481  Daomu Biji Zhi Qinling Shen Shu  Unknown   \n",
       "17558  48483                     Mieruko-chan  Unknown   \n",
       "17559  48488  Higurashi no Naku Koro ni Sotsu  Unknown   \n",
       "17560  48491      Yama no Susume: Next Summit  Unknown   \n",
       "17561  48492                    Scarlet Nexus  Unknown   \n",
       "\n",
       "                                                  Genres  \n",
       "0        Action, Adventure, Comedy, Drama, Sci-Fi, Space  \n",
       "1                  Action, Drama, Mystery, Sci-Fi, Space  \n",
       "2      Action, Sci-Fi, Adventure, Comedy, Drama, Shounen  \n",
       "3      Action, Mystery, Police, Supernatural, Drama, ...  \n",
       "4              Adventure, Fantasy, Shounen, Supernatural  \n",
       "...                                                  ...  \n",
       "17557                   Adventure, Mystery, Supernatural  \n",
       "17558                       Comedy, Horror, Supernatural  \n",
       "17559  Mystery, Dementia, Horror, Psychological, Supe...  \n",
       "17560                   Adventure, Slice of Life, Comedy  \n",
       "17561                                    Action, Fantasy  \n",
       "\n",
       "[17562 rows x 4 columns]"
      ]
     },
     "execution_count": 9,
     "metadata": {},
     "output_type": "execute_result"
    }
   ],
   "source": [
    "anime['id']=anime[\"MAL_ID\"]\n",
    "anime=anime.loc[:,[\"id\",\"Name\",\"Score\",\"Genres\"]]\n",
    "anime"
   ]
  },
  {
   "cell_type": "code",
   "execution_count": 10,
   "id": "ad6a3062-a757-48d0-b252-852699c03164",
   "metadata": {},
   "outputs": [
    {
     "data": {
      "text/plain": [
       "0         308\n",
       "1        1422\n",
       "2           7\n",
       "3       31670\n",
       "4       28957\n",
       "        ...  \n",
       "1255    37695\n",
       "1256    32058\n",
       "1257    37752\n",
       "1258    38074\n",
       "1259      187\n",
       "Name: muestras, Length: 1260, dtype: object"
      ]
     },
     "execution_count": 10,
     "metadata": {},
     "output_type": "execute_result"
    }
   ],
   "source": [
    "IndicesMuestra"
   ]
  },
  {
   "cell_type": "code",
   "execution_count": 11,
   "id": "01574394-9013-4b2a-86d9-0a4ba5a72a6f",
   "metadata": {},
   "outputs": [],
   "source": [
    "anime['Genres'] = anime['Genres'].fillna('').astype(str) "
   ]
  },
  {
   "cell_type": "markdown",
   "id": "68aeac62-9ab2-45b1-ad24-dd15fd4976fd",
   "metadata": {},
   "source": [
    "Se filtra el DataFrame de los usuarios tomando únicamente las filas que tengan el ID de los animes y el estado \"completo\", es decir, que ya terminaron de ver la serie.\n"
   ]
  },
  {
   "cell_type": "code",
   "execution_count": 12,
   "id": "af6472a6-ebb3-4d57-9023-792690e1aa5d",
   "metadata": {},
   "outputs": [],
   "source": [
    "anime = anime.query(\"id in @ IndicesMuestra\").sort_values(by=[\"id\"], ascending=True).reset_index(drop=True)\n"
   ]
  },
  {
   "cell_type": "code",
   "execution_count": 13,
   "id": "4dded5a6-de7b-4efd-991b-252896444e17",
   "metadata": {},
   "outputs": [
    {
     "data": {
      "text/plain": [
       "1260"
      ]
     },
     "execution_count": 13,
     "metadata": {},
     "output_type": "execute_result"
    }
   ],
   "source": [
    "id=anime['id'].unique()\n",
    "len(id)"
   ]
  },
  {
   "cell_type": "code",
   "execution_count": 14,
   "id": "6b17306d-a0ae-4613-a72e-1407d4e633cf",
   "metadata": {},
   "outputs": [],
   "source": [
    "usuarios=(usuarios\n",
    " .query('anime_id in @id and watching_status==2')\n",
    ".sort_values(by=[\"user_id\", \"anime_id\"], ascending=[True, True]).reset_index(drop=True))\n"
   ]
  },
  {
   "cell_type": "code",
   "execution_count": 15,
   "id": "8bf3587e-aab3-435b-9849-aa4c0f0733fe",
   "metadata": {},
   "outputs": [],
   "source": [
    "usuarios=usuarios.drop(['watching_status'], axis=1)"
   ]
  },
  {
   "cell_type": "markdown",
   "id": "2e585cb0-5b8f-4bb8-8f6e-c3986907bd89",
   "metadata": {},
   "source": [
    "Se realiza un left join con las dos bases de datos restantes.\n"
   ]
  },
  {
   "cell_type": "code",
   "execution_count": 16,
   "id": "8e49877b-d0cd-46be-bbb7-ed95f7e597d0",
   "metadata": {},
   "outputs": [],
   "source": [
    "usuarios=usuarios.merge(anime,left_on=\"anime_id\",right_on=\"id\",how=\"left\")\n"
   ]
  },
  {
   "cell_type": "code",
   "execution_count": 17,
   "id": "e58f539e-c0f0-43ed-9a07-a8b9e9cb1bf8",
   "metadata": {},
   "outputs": [
    {
     "data": {
      "text/html": [
       "<div>\n",
       "<style scoped>\n",
       "    .dataframe tbody tr th:only-of-type {\n",
       "        vertical-align: middle;\n",
       "    }\n",
       "\n",
       "    .dataframe tbody tr th {\n",
       "        vertical-align: top;\n",
       "    }\n",
       "\n",
       "    .dataframe thead th {\n",
       "        text-align: right;\n",
       "    }\n",
       "</style>\n",
       "<table border=\"1\" class=\"dataframe\">\n",
       "  <thead>\n",
       "    <tr style=\"text-align: right;\">\n",
       "      <th></th>\n",
       "      <th>user_id</th>\n",
       "      <th>anime_id</th>\n",
       "      <th>rating</th>\n",
       "      <th>id</th>\n",
       "      <th>Name</th>\n",
       "      <th>Score</th>\n",
       "      <th>Genres</th>\n",
       "    </tr>\n",
       "  </thead>\n",
       "  <tbody>\n",
       "    <tr>\n",
       "      <th>0</th>\n",
       "      <td>0</td>\n",
       "      <td>1004</td>\n",
       "      <td>5.00</td>\n",
       "      <td>1004</td>\n",
       "      <td>Kanojo to Kanojo no Neko</td>\n",
       "      <td>7.33</td>\n",
       "      <td>Drama, Psychological, Romance, Slice of Life</td>\n",
       "    </tr>\n",
       "    <tr>\n",
       "      <th>1</th>\n",
       "      <td>0</td>\n",
       "      <td>1689</td>\n",
       "      <td>6.00</td>\n",
       "      <td>1689</td>\n",
       "      <td>Byousoku 5 Centimeter</td>\n",
       "      <td>7.73</td>\n",
       "      <td>Drama, Romance, Slice of Life</td>\n",
       "    </tr>\n",
       "    <tr>\n",
       "      <th>2</th>\n",
       "      <td>0</td>\n",
       "      <td>169</td>\n",
       "      <td>7.00</td>\n",
       "      <td>169</td>\n",
       "      <td>Shingetsutan Tsukihime</td>\n",
       "      <td>6.91</td>\n",
       "      <td>Action, Horror, Mystery, Romance, Super Power,...</td>\n",
       "    </tr>\n",
       "    <tr>\n",
       "      <th>3</th>\n",
       "      <td>0</td>\n",
       "      <td>174</td>\n",
       "      <td>4.00</td>\n",
       "      <td>174</td>\n",
       "      <td>Tenjou Tenge</td>\n",
       "      <td>6.93</td>\n",
       "      <td>Action, Ecchi, Martial Arts, Comedy, Super Pow...</td>\n",
       "    </tr>\n",
       "    <tr>\n",
       "      <th>4</th>\n",
       "      <td>0</td>\n",
       "      <td>3418</td>\n",
       "      <td>9.00</td>\n",
       "      <td>3418</td>\n",
       "      <td>Jungle no Ouja Taa-chan</td>\n",
       "      <td>7.01</td>\n",
       "      <td>Action, Comedy, Parody</td>\n",
       "    </tr>\n",
       "    <tr>\n",
       "      <th>...</th>\n",
       "      <td>...</td>\n",
       "      <td>...</td>\n",
       "      <td>...</td>\n",
       "      <td>...</td>\n",
       "      <td>...</td>\n",
       "      <td>...</td>\n",
       "      <td>...</td>\n",
       "    </tr>\n",
       "    <tr>\n",
       "      <th>8377230</th>\n",
       "      <td>99997</td>\n",
       "      <td>934</td>\n",
       "      <td>8.00</td>\n",
       "      <td>934</td>\n",
       "      <td>Higurashi no Naku Koro ni</td>\n",
       "      <td>7.95</td>\n",
       "      <td>Mystery, Dementia, Horror, Psychological, Supe...</td>\n",
       "    </tr>\n",
       "    <tr>\n",
       "      <th>8377231</th>\n",
       "      <td>99997</td>\n",
       "      <td>9513</td>\n",
       "      <td>7.00</td>\n",
       "      <td>9513</td>\n",
       "      <td>Beelzebub</td>\n",
       "      <td>7.91</td>\n",
       "      <td>Action, Comedy, Demons, Supernatural, School, ...</td>\n",
       "    </tr>\n",
       "    <tr>\n",
       "      <th>8377232</th>\n",
       "      <td>99998</td>\n",
       "      <td>1689</td>\n",
       "      <td>8.00</td>\n",
       "      <td>1689</td>\n",
       "      <td>Byousoku 5 Centimeter</td>\n",
       "      <td>7.73</td>\n",
       "      <td>Drama, Romance, Slice of Life</td>\n",
       "    </tr>\n",
       "    <tr>\n",
       "      <th>8377233</th>\n",
       "      <td>99998</td>\n",
       "      <td>2904</td>\n",
       "      <td>8.00</td>\n",
       "      <td>2904</td>\n",
       "      <td>Code Geass: Hangyaku no Lelouch R2</td>\n",
       "      <td>8.91</td>\n",
       "      <td>Action, Military, Sci-Fi, Super Power, Drama, ...</td>\n",
       "    </tr>\n",
       "    <tr>\n",
       "      <th>8377234</th>\n",
       "      <td>99998</td>\n",
       "      <td>3457</td>\n",
       "      <td>6.00</td>\n",
       "      <td>3457</td>\n",
       "      <td>Vampire Knight</td>\n",
       "      <td>7.03</td>\n",
       "      <td>Drama, Mystery, Romance, Shoujo, Supernatural,...</td>\n",
       "    </tr>\n",
       "  </tbody>\n",
       "</table>\n",
       "<p>8377235 rows × 7 columns</p>\n",
       "</div>"
      ],
      "text/plain": [
       "        user_id anime_id  rating    id                                Name  \\\n",
       "0             0     1004    5.00  1004            Kanojo to Kanojo no Neko   \n",
       "1             0     1689    6.00  1689               Byousoku 5 Centimeter   \n",
       "2             0      169    7.00   169              Shingetsutan Tsukihime   \n",
       "3             0      174    4.00   174                        Tenjou Tenge   \n",
       "4             0     3418    9.00  3418             Jungle no Ouja Taa-chan   \n",
       "...         ...      ...     ...   ...                                 ...   \n",
       "8377230   99997      934    8.00   934           Higurashi no Naku Koro ni   \n",
       "8377231   99997     9513    7.00  9513                           Beelzebub   \n",
       "8377232   99998     1689    8.00  1689               Byousoku 5 Centimeter   \n",
       "8377233   99998     2904    8.00  2904  Code Geass: Hangyaku no Lelouch R2   \n",
       "8377234   99998     3457    6.00  3457                      Vampire Knight   \n",
       "\n",
       "        Score                                             Genres  \n",
       "0        7.33       Drama, Psychological, Romance, Slice of Life  \n",
       "1        7.73                      Drama, Romance, Slice of Life  \n",
       "2        6.91  Action, Horror, Mystery, Romance, Super Power,...  \n",
       "3        6.93  Action, Ecchi, Martial Arts, Comedy, Super Pow...  \n",
       "4        7.01                             Action, Comedy, Parody  \n",
       "...       ...                                                ...  \n",
       "8377230  7.95  Mystery, Dementia, Horror, Psychological, Supe...  \n",
       "8377231  7.91  Action, Comedy, Demons, Supernatural, School, ...  \n",
       "8377232  7.73                      Drama, Romance, Slice of Life  \n",
       "8377233  8.91  Action, Military, Sci-Fi, Super Power, Drama, ...  \n",
       "8377234  7.03  Drama, Mystery, Romance, Shoujo, Supernatural,...  \n",
       "\n",
       "[8377235 rows x 7 columns]"
      ]
     },
     "execution_count": 17,
     "metadata": {},
     "output_type": "execute_result"
    }
   ],
   "source": [
    "usuarios"
   ]
  },
  {
   "cell_type": "markdown",
   "id": "dbac3904-6e56-496b-b8a5-914ef4193aef",
   "metadata": {},
   "source": [
    "Se crean dos DataFrames: uno para los usuarios (USERS) y otro para los animes (ANIMES).\n",
    "Para USERS:\n",
    "- Se obtienen los valores únicos de la columna 'user_id'.\n",
    "- Se generan identificadores únicos para cada usuario.\n",
    "Para ANIM- Se generannerar identificadores únicos para cada anime, asegurando que sean distintos de los identificadores de usua\n",
    "\n",
    "Para utilizar en la creación de un grafo con la librería `igraph`, es esencial que los identificadores sean únicos y distintos entre sí para evitar confusiones. rios.\n"
   ]
  },
  {
   "cell_type": "code",
   "execution_count": 18,
   "id": "dcb5745e-63b7-425b-87b3-f51339321589",
   "metadata": {},
   "outputs": [],
   "source": [
    "USERS = pd.DataFrame((usuarios['user_id'].unique(),  # Obtener valores únicos de la primera columna\n",
    "                  range(len(usuarios['user_id'].unique()))),  # Generar identificadores únicos\n",
    "                 index=['user', 'Identificador']).T  # Transponer para obtener un DataFrame\n",
    "\n",
    "# Creación del DataFrame para la segunda columna (C)\n",
    "ANIMES = pd.DataFrame((usuarios['anime_id'].unique(),  # Obtener valores únicos de la segunda columna\n",
    "                  (np.full(len(usuarios['anime_id'].unique()), len(usuarios['user_id'].unique())) + range(len(usuarios['anime_id'].unique())))),  # Generar identificadores únicos\n",
    "                      #ya hay identificadores unicos para todos los usuarios\n",
    "                      # toca generar identificadores unicos para todos los animes\n",
    "                 index=['anime', 'Identificador']).T  # Transponer para obtener un DataFrame"
   ]
  },
  {
   "cell_type": "markdown",
   "id": "5587fcf1-c097-4a6d-bb11-f970eeaa9ec1",
   "metadata": {},
   "source": [
    "Se crea un DataFrame con los identificadores únicos como nuevas columnas.\n"
   ]
  },
  {
   "cell_type": "code",
   "execution_count": 19,
   "id": "697c515b-bf94-4ec1-8a2d-d088b87c925e",
   "metadata": {},
   "outputs": [
    {
     "data": {
      "text/html": [
       "<div>\n",
       "<style scoped>\n",
       "    .dataframe tbody tr th:only-of-type {\n",
       "        vertical-align: middle;\n",
       "    }\n",
       "\n",
       "    .dataframe tbody tr th {\n",
       "        vertical-align: top;\n",
       "    }\n",
       "\n",
       "    .dataframe thead th {\n",
       "        text-align: right;\n",
       "    }\n",
       "</style>\n",
       "<table border=\"1\" class=\"dataframe\">\n",
       "  <thead>\n",
       "    <tr style=\"text-align: right;\">\n",
       "      <th></th>\n",
       "      <th>user_id</th>\n",
       "      <th>anime_id</th>\n",
       "      <th>rating</th>\n",
       "      <th>id</th>\n",
       "      <th>Name</th>\n",
       "      <th>Score</th>\n",
       "      <th>Genres</th>\n",
       "      <th>user</th>\n",
       "      <th>Identificador_x</th>\n",
       "      <th>anime</th>\n",
       "      <th>Identificador_y</th>\n",
       "    </tr>\n",
       "  </thead>\n",
       "  <tbody>\n",
       "    <tr>\n",
       "      <th>0</th>\n",
       "      <td>0</td>\n",
       "      <td>1004</td>\n",
       "      <td>5.00</td>\n",
       "      <td>1004</td>\n",
       "      <td>Kanojo to Kanojo no Neko</td>\n",
       "      <td>7.33</td>\n",
       "      <td>Drama, Psychological, Romance, Slice of Life</td>\n",
       "      <td>0</td>\n",
       "      <td>0</td>\n",
       "      <td>1004</td>\n",
       "      <td>305998</td>\n",
       "    </tr>\n",
       "    <tr>\n",
       "      <th>1</th>\n",
       "      <td>0</td>\n",
       "      <td>1689</td>\n",
       "      <td>6.00</td>\n",
       "      <td>1689</td>\n",
       "      <td>Byousoku 5 Centimeter</td>\n",
       "      <td>7.73</td>\n",
       "      <td>Drama, Romance, Slice of Life</td>\n",
       "      <td>0</td>\n",
       "      <td>0</td>\n",
       "      <td>1689</td>\n",
       "      <td>305999</td>\n",
       "    </tr>\n",
       "    <tr>\n",
       "      <th>2</th>\n",
       "      <td>0</td>\n",
       "      <td>169</td>\n",
       "      <td>7.00</td>\n",
       "      <td>169</td>\n",
       "      <td>Shingetsutan Tsukihime</td>\n",
       "      <td>6.91</td>\n",
       "      <td>Action, Horror, Mystery, Romance, Super Power,...</td>\n",
       "      <td>0</td>\n",
       "      <td>0</td>\n",
       "      <td>169</td>\n",
       "      <td>306000</td>\n",
       "    </tr>\n",
       "    <tr>\n",
       "      <th>3</th>\n",
       "      <td>0</td>\n",
       "      <td>174</td>\n",
       "      <td>4.00</td>\n",
       "      <td>174</td>\n",
       "      <td>Tenjou Tenge</td>\n",
       "      <td>6.93</td>\n",
       "      <td>Action, Ecchi, Martial Arts, Comedy, Super Pow...</td>\n",
       "      <td>0</td>\n",
       "      <td>0</td>\n",
       "      <td>174</td>\n",
       "      <td>306001</td>\n",
       "    </tr>\n",
       "    <tr>\n",
       "      <th>4</th>\n",
       "      <td>0</td>\n",
       "      <td>3418</td>\n",
       "      <td>9.00</td>\n",
       "      <td>3418</td>\n",
       "      <td>Jungle no Ouja Taa-chan</td>\n",
       "      <td>7.01</td>\n",
       "      <td>Action, Comedy, Parody</td>\n",
       "      <td>0</td>\n",
       "      <td>0</td>\n",
       "      <td>3418</td>\n",
       "      <td>306002</td>\n",
       "    </tr>\n",
       "    <tr>\n",
       "      <th>...</th>\n",
       "      <td>...</td>\n",
       "      <td>...</td>\n",
       "      <td>...</td>\n",
       "      <td>...</td>\n",
       "      <td>...</td>\n",
       "      <td>...</td>\n",
       "      <td>...</td>\n",
       "      <td>...</td>\n",
       "      <td>...</td>\n",
       "      <td>...</td>\n",
       "      <td>...</td>\n",
       "    </tr>\n",
       "    <tr>\n",
       "      <th>8377230</th>\n",
       "      <td>99997</td>\n",
       "      <td>934</td>\n",
       "      <td>8.00</td>\n",
       "      <td>934</td>\n",
       "      <td>Higurashi no Naku Koro ni</td>\n",
       "      <td>7.95</td>\n",
       "      <td>Mystery, Dementia, Horror, Psychological, Supe...</td>\n",
       "      <td>99997</td>\n",
       "      <td>305996</td>\n",
       "      <td>934</td>\n",
       "      <td>306017</td>\n",
       "    </tr>\n",
       "    <tr>\n",
       "      <th>8377231</th>\n",
       "      <td>99997</td>\n",
       "      <td>9513</td>\n",
       "      <td>7.00</td>\n",
       "      <td>9513</td>\n",
       "      <td>Beelzebub</td>\n",
       "      <td>7.91</td>\n",
       "      <td>Action, Comedy, Demons, Supernatural, School, ...</td>\n",
       "      <td>99997</td>\n",
       "      <td>305996</td>\n",
       "      <td>9513</td>\n",
       "      <td>306143</td>\n",
       "    </tr>\n",
       "    <tr>\n",
       "      <th>8377232</th>\n",
       "      <td>99998</td>\n",
       "      <td>1689</td>\n",
       "      <td>8.00</td>\n",
       "      <td>1689</td>\n",
       "      <td>Byousoku 5 Centimeter</td>\n",
       "      <td>7.73</td>\n",
       "      <td>Drama, Romance, Slice of Life</td>\n",
       "      <td>99998</td>\n",
       "      <td>305997</td>\n",
       "      <td>1689</td>\n",
       "      <td>305999</td>\n",
       "    </tr>\n",
       "    <tr>\n",
       "      <th>8377233</th>\n",
       "      <td>99998</td>\n",
       "      <td>2904</td>\n",
       "      <td>8.00</td>\n",
       "      <td>2904</td>\n",
       "      <td>Code Geass: Hangyaku no Lelouch R2</td>\n",
       "      <td>8.91</td>\n",
       "      <td>Action, Military, Sci-Fi, Super Power, Drama, ...</td>\n",
       "      <td>99998</td>\n",
       "      <td>305997</td>\n",
       "      <td>2904</td>\n",
       "      <td>306030</td>\n",
       "    </tr>\n",
       "    <tr>\n",
       "      <th>8377234</th>\n",
       "      <td>99998</td>\n",
       "      <td>3457</td>\n",
       "      <td>6.00</td>\n",
       "      <td>3457</td>\n",
       "      <td>Vampire Knight</td>\n",
       "      <td>7.03</td>\n",
       "      <td>Drama, Mystery, Romance, Shoujo, Supernatural,...</td>\n",
       "      <td>99998</td>\n",
       "      <td>305997</td>\n",
       "      <td>3457</td>\n",
       "      <td>306240</td>\n",
       "    </tr>\n",
       "  </tbody>\n",
       "</table>\n",
       "<p>8377235 rows × 11 columns</p>\n",
       "</div>"
      ],
      "text/plain": [
       "        user_id anime_id  rating    id                                Name  \\\n",
       "0             0     1004    5.00  1004            Kanojo to Kanojo no Neko   \n",
       "1             0     1689    6.00  1689               Byousoku 5 Centimeter   \n",
       "2             0      169    7.00   169              Shingetsutan Tsukihime   \n",
       "3             0      174    4.00   174                        Tenjou Tenge   \n",
       "4             0     3418    9.00  3418             Jungle no Ouja Taa-chan   \n",
       "...         ...      ...     ...   ...                                 ...   \n",
       "8377230   99997      934    8.00   934           Higurashi no Naku Koro ni   \n",
       "8377231   99997     9513    7.00  9513                           Beelzebub   \n",
       "8377232   99998     1689    8.00  1689               Byousoku 5 Centimeter   \n",
       "8377233   99998     2904    8.00  2904  Code Geass: Hangyaku no Lelouch R2   \n",
       "8377234   99998     3457    6.00  3457                      Vampire Knight   \n",
       "\n",
       "        Score                                             Genres   user  \\\n",
       "0        7.33       Drama, Psychological, Romance, Slice of Life      0   \n",
       "1        7.73                      Drama, Romance, Slice of Life      0   \n",
       "2        6.91  Action, Horror, Mystery, Romance, Super Power,...      0   \n",
       "3        6.93  Action, Ecchi, Martial Arts, Comedy, Super Pow...      0   \n",
       "4        7.01                             Action, Comedy, Parody      0   \n",
       "...       ...                                                ...    ...   \n",
       "8377230  7.95  Mystery, Dementia, Horror, Psychological, Supe...  99997   \n",
       "8377231  7.91  Action, Comedy, Demons, Supernatural, School, ...  99997   \n",
       "8377232  7.73                      Drama, Romance, Slice of Life  99998   \n",
       "8377233  8.91  Action, Military, Sci-Fi, Super Power, Drama, ...  99998   \n",
       "8377234  7.03  Drama, Mystery, Romance, Shoujo, Supernatural,...  99998   \n",
       "\n",
       "        Identificador_x anime Identificador_y  \n",
       "0                     0  1004          305998  \n",
       "1                     0  1689          305999  \n",
       "2                     0   169          306000  \n",
       "3                     0   174          306001  \n",
       "4                     0  3418          306002  \n",
       "...                 ...   ...             ...  \n",
       "8377230          305996   934          306017  \n",
       "8377231          305996  9513          306143  \n",
       "8377232          305997  1689          305999  \n",
       "8377233          305997  2904          306030  \n",
       "8377234          305997  3457          306240  \n",
       "\n",
       "[8377235 rows x 11 columns]"
      ]
     },
     "execution_count": 19,
     "metadata": {},
     "output_type": "execute_result"
    }
   ],
   "source": [
    "Identificados=usuarios.merge(USERS,left_on='user_id',right_on=\"user\",how=\"left\").merge(ANIMES,left_on='anime_id',right_on=\"anime\",how=\"left\")\n",
    "Identificados"
   ]
  },
  {
   "cell_type": "markdown",
   "id": "8e4e57ef-4992-44a9-abdf-42c2a101d234",
   "metadata": {},
   "source": [
    "Se crea la matriz de aristas."
   ]
  },
  {
   "cell_type": "code",
   "execution_count": 20,
   "id": "daa73e66-8226-4afe-9e02-ade359abd900",
   "metadata": {},
   "outputs": [
    {
     "data": {
      "text/html": [
       "<div>\n",
       "<style scoped>\n",
       "    .dataframe tbody tr th:only-of-type {\n",
       "        vertical-align: middle;\n",
       "    }\n",
       "\n",
       "    .dataframe tbody tr th {\n",
       "        vertical-align: top;\n",
       "    }\n",
       "\n",
       "    .dataframe thead th {\n",
       "        text-align: right;\n",
       "    }\n",
       "</style>\n",
       "<table border=\"1\" class=\"dataframe\">\n",
       "  <thead>\n",
       "    <tr style=\"text-align: right;\">\n",
       "      <th></th>\n",
       "      <th>Identificador_x</th>\n",
       "      <th>Identificador_y</th>\n",
       "    </tr>\n",
       "  </thead>\n",
       "  <tbody>\n",
       "    <tr>\n",
       "      <th>0</th>\n",
       "      <td>0</td>\n",
       "      <td>305998</td>\n",
       "    </tr>\n",
       "    <tr>\n",
       "      <th>1</th>\n",
       "      <td>0</td>\n",
       "      <td>305999</td>\n",
       "    </tr>\n",
       "    <tr>\n",
       "      <th>2</th>\n",
       "      <td>0</td>\n",
       "      <td>306000</td>\n",
       "    </tr>\n",
       "    <tr>\n",
       "      <th>3</th>\n",
       "      <td>0</td>\n",
       "      <td>306001</td>\n",
       "    </tr>\n",
       "    <tr>\n",
       "      <th>4</th>\n",
       "      <td>0</td>\n",
       "      <td>306002</td>\n",
       "    </tr>\n",
       "    <tr>\n",
       "      <th>...</th>\n",
       "      <td>...</td>\n",
       "      <td>...</td>\n",
       "    </tr>\n",
       "    <tr>\n",
       "      <th>8377230</th>\n",
       "      <td>305996</td>\n",
       "      <td>306017</td>\n",
       "    </tr>\n",
       "    <tr>\n",
       "      <th>8377231</th>\n",
       "      <td>305996</td>\n",
       "      <td>306143</td>\n",
       "    </tr>\n",
       "    <tr>\n",
       "      <th>8377232</th>\n",
       "      <td>305997</td>\n",
       "      <td>305999</td>\n",
       "    </tr>\n",
       "    <tr>\n",
       "      <th>8377233</th>\n",
       "      <td>305997</td>\n",
       "      <td>306030</td>\n",
       "    </tr>\n",
       "    <tr>\n",
       "      <th>8377234</th>\n",
       "      <td>305997</td>\n",
       "      <td>306240</td>\n",
       "    </tr>\n",
       "  </tbody>\n",
       "</table>\n",
       "<p>8377235 rows × 2 columns</p>\n",
       "</div>"
      ],
      "text/plain": [
       "        Identificador_x Identificador_y\n",
       "0                     0          305998\n",
       "1                     0          305999\n",
       "2                     0          306000\n",
       "3                     0          306001\n",
       "4                     0          306002\n",
       "...                 ...             ...\n",
       "8377230          305996          306017\n",
       "8377231          305996          306143\n",
       "8377232          305997          305999\n",
       "8377233          305997          306030\n",
       "8377234          305997          306240\n",
       "\n",
       "[8377235 rows x 2 columns]"
      ]
     },
     "execution_count": 20,
     "metadata": {},
     "output_type": "execute_result"
    }
   ],
   "source": [
    "Aristas=Identificados[['Identificador_x', 'Identificador_y']]\n",
    "Aristas"
   ]
  },
  {
   "cell_type": "markdown",
   "id": "485e2250-f1cc-484e-a0e7-66a749b565ec",
   "metadata": {},
   "source": [
    "Se crea una concatenación para identificar los usuarios y los animes, llamada \"type\", para que igraph reconozca el grafo como un grafo bipartita. Posteriormente, se agregan las respectivas IDs como nombres y se convierte la matriz de aristas a tipo entero para evitar problemas al usarla en igraph.\n"
   ]
  },
  {
   "cell_type": "code",
   "execution_count": 21,
   "id": "2ed7f875-6727-4509-a5d7-9bf21565ef73",
   "metadata": {},
   "outputs": [],
   "source": [
    "type=np.concatenate((np.full(len(usuarios['user_id'].unique()), 'usuario'), np.full(len(usuarios['anime_id'].unique()), 'anime')))\n",
    "Bool_type=np.concatenate((np.full(len(usuarios['user_id'].unique()), True), np.full(len(usuarios['anime_id'].unique()), False))) # para hacer la proyeccion"
   ]
  },
  {
   "cell_type": "code",
   "execution_count": 22,
   "id": "c5b27450-1ae4-423c-a650-4f215642ec81",
   "metadata": {},
   "outputs": [],
   "source": [
    "name=np.concatenate((usuarios['user_id'].unique(),usuarios['Name'].unique()))"
   ]
  },
  {
   "cell_type": "code",
   "execution_count": 23,
   "id": "310f92cd-213c-4961-9470-5341119d5a94",
   "metadata": {},
   "outputs": [
    {
     "name": "stderr",
     "output_type": "stream",
     "text": [
      "C:\\Users\\Cesar Prieto\\AppData\\Local\\Temp\\ipykernel_17800\\1100820221.py:2: SettingWithCopyWarning: \n",
      "A value is trying to be set on a copy of a slice from a DataFrame.\n",
      "Try using .loc[row_indexer,col_indexer] = value instead\n",
      "\n",
      "See the caveats in the documentation: https://pandas.pydata.org/pandas-docs/stable/user_guide/indexing.html#returning-a-view-versus-a-copy\n",
      "C:\\Users\\Cesar Prieto\\AppData\\Local\\Temp\\ipykernel_17800\\1100820221.py:3: SettingWithCopyWarning: \n",
      "A value is trying to be set on a copy of a slice from a DataFrame.\n",
      "Try using .loc[row_indexer,col_indexer] = value instead\n",
      "\n",
      "See the caveats in the documentation: https://pandas.pydata.org/pandas-docs/stable/user_guide/indexing.html#returning-a-view-versus-a-copy\n"
     ]
    }
   ],
   "source": [
    "# Assuming Aristas is your DataFrame\n",
    "Aristas['Identificador_x'] = Aristas['Identificador_x'].astype(int)\n",
    "Aristas['Identificador_y'] = Aristas['Identificador_y'].astype(int)\n"
   ]
  },
  {
   "cell_type": "markdown",
   "id": "89619076-59ee-4aa6-9ed1-7a10aaa026a8",
   "metadata": {},
   "source": [
    "## Creación del grafo mediante igraph\n"
   ]
  },
  {
   "cell_type": "markdown",
   "id": "3b046648-1822-4615-85ec-42227b8f6a81",
   "metadata": {},
   "source": [
    "Dada la magnitud de la base de datos de los usuarios, se realizará un muestreo de 500 de estos para poder recrear adecuadamente el capítulo 9 de Luke.\n"
   ]
  },
  {
   "cell_type": "code",
   "execution_count": 24,
   "id": "0a63696b-f616-4eac-86f2-0c0e2904d37d",
   "metadata": {},
   "outputs": [],
   "source": [
    "g = ig.Graph.DataFrame(Aristas, directed=False) \n",
    "g.vs['type']=type\n",
    "g.vs['Bool type']=Bool_type     # para volverlo bipartita\n",
    "g.vs['name']=name"
   ]
  },
  {
   "cell_type": "code",
   "execution_count": 25,
   "id": "7f64082c-37b0-4b38-82f1-ce4aac416c72",
   "metadata": {},
   "outputs": [
    {
     "name": "stdout",
     "output_type": "stream",
     "text": [
      "IGRAPH UN-T 307213 8377235 -- \n",
      "+ attr: Bool type (v), name (v), type (v)\n"
     ]
    }
   ],
   "source": [
    "ig.summary(g)"
   ]
  },
  {
   "cell_type": "code",
   "execution_count": 26,
   "id": "65f5dc0f-80b9-49e9-b08f-ca409dbe1aaa",
   "metadata": {},
   "outputs": [],
   "source": [
    "name=np.concatenate((usuarios['user_id'].unique(),usuarios['Name'].unique()))"
   ]
  },
  {
   "cell_type": "code",
   "execution_count": 28,
   "id": "41549403-533c-46b9-91e2-34566aaf8517",
   "metadata": {},
   "outputs": [],
   "source": [
    "g = ig.Graph.DataFrame(Aristas, directed=False) \n",
    "g.vs['type']=Bool_type          # para volverlo bipartita\n",
    "g.vs['name']=name"
   ]
  },
  {
   "cell_type": "code",
   "execution_count": 29,
   "id": "de0ea6dd-25e9-4110-a31e-05f416ab0477",
   "metadata": {},
   "outputs": [],
   "source": [
    "colors=[adjustcolor('royalblue',0.3),adjustcolor('purple',0.3) ]\n",
    "shapes=['circle','circle']\n",
    "shape = []\n",
    "color = []\n",
    "\n",
    "# Asignar formas y colores a los vértices\n",
    "for type in g.vs['type']:\n",
    "    if type == 'anime':\n",
    "        idx = 0\n",
    "    else:\n",
    "        idx = 1\n",
    "    shape.append(shapes[idx])  # Acceder a la forma correspondiente\n",
    "    color.append(colors[idx])  # Acceder al color correspondiente\n",
    "\n",
    "# Asignar las formas y colores a los vértices\n",
    "g.vs['shape'] = shape\n",
    "g.vs['color'] = color\n",
    "g.vs['vertex_frame_color'] = color  # Asignar el color del marco de los vértices"
   ]
  },
  {
   "cell_type": "code",
   "execution_count": 30,
   "id": "357b9238-b34d-489e-8ff7-85b4a3ea1927",
   "metadata": {},
   "outputs": [],
   "source": [
    "g_anime= g.bipartite_projection(which=0) # para obtener Y'Y YY'"
   ]
  },
  {
   "cell_type": "code",
   "execution_count": 31,
   "id": "89c8e931-7902-4371-9b47-afd5c68fc1ab",
   "metadata": {},
   "outputs": [
    {
     "name": "stdout",
     "output_type": "stream",
     "text": [
      "IGRAPH UNWT 1215 734206 -- \n",
      "+ attr: color (v), name (v), shape (v), type (v), vertex_frame_color (v), weight (e)\n"
     ]
    }
   ],
   "source": [
    "ig.summary(g_anime)"
   ]
  },
  {
   "cell_type": "code",
   "execution_count": 32,
   "id": "e420fe53-cb3f-4eb5-9560-ffa104645896",
   "metadata": {},
   "outputs": [],
   "source": [
    "random.seed(12)\n",
    "layout = g_anime.layout_kamada_kawai()\n",
    "betweenness= g_anime.betweenness(directed=False, weights=g_anime.es['weight'])\n",
    "max=np.max(betweenness)"
   ]
  },
  {
   "cell_type": "code",
   "execution_count": 33,
   "id": "92c1be60-7063-4505-86a0-4735188c0ad8",
   "metadata": {},
   "outputs": [],
   "source": [
    "random.seed(12)\n",
    "grafico=ig.plot(g_anime,\n",
    "               edge_color =adjustcolor('black',0.00395),\n",
    "               vertex_frame_color =adjustcolor('purple', 0.5),\n",
    "               vertex_size=[20 if cg / max * 500 > 20 else (cg / max * 500 if cg / max * 500 > 3 else 3) for cg in betweenness],\n",
    "               layout=layout)\n",
    "grafico.save(\"grafico.png\")"
   ]
  },
  {
   "cell_type": "code",
   "execution_count": 34,
   "id": "a4ca86f2-5a50-4589-af94-704ddbb0aefe",
   "metadata": {},
   "outputs": [
    {
     "data": {
      "image/png": "[encoded data removed]",
      "text/plain": [
       "<Figure size 1000x800 with 1 Axes>"
      ]
     },
     "metadata": {},
     "output_type": "display_data"
    }
   ],
   "source": [
    "# Lee la imagen\n",
    "image = plt.imread(\"grafico.png\")\n",
    "\n",
    "# Plotea la imagen\n",
    "plt.figure(figsize=(10, 8))\n",
    "plt.imshow(image)\n",
    "plt.axis('off')  # Desactiva los ejes\n",
    "plt.show()"
   ]
  },
  {
   "cell_type": "markdown",
   "id": "dca88c62-142a-4c6a-9f45-dcfa8ef7191c",
   "metadata": {},
   "source": [
    "## Heat Map for matrix of interactions "
   ]
  },
  {
   "cell_type": "code",
   "execution_count": null,
   "id": "4e3d2fb7-35c5-4af7-a8b7-2ea2d8768c07",
   "metadata": {},
   "outputs": [],
   "source": [
    "import matplotlib.pyplot as plt\n",
    "import seaborn as sns\n",
    "\n",
    "adj_matrix = np.array(g_anime.get_adjacency().data)\n",
    "print(adj_matrix)"
   ]
  },
  {
   "cell_type": "code",
   "execution_count": null,
   "id": "c83e58ca-5e73-423d-9b51-04e30e12cce0",
   "metadata": {},
   "outputs": [],
   "source": [
    "# Creamos el mapa de calor\n",
    "plt.figure(figsize=(10, 8))\n",
    "cmap = sns.color_palette(\"rocket\", as_cmap=True)\n",
    "sns.heatmap(adj_matrix, cmap = cmap, cbar=True)\n",
    "plt.title('Mapa de Calor de la Matriz de Interacción')\n",
    "plt.xticks([])  # Elimina las etiquetas del eje X\n",
    "plt.yticks([])  # Elimina las etiquetas del eje Y\n",
    "plt.show()"
   ]
  },
  {
   "cell_type": "markdown",
   "id": "298c9c95-baba-4962-9637-daaa4cf05564",
   "metadata": {},
   "source": [
    "**(a)** \n",
    "Caracterizar la centralidad de los nodos."
   ]
  },
  {
   "cell_type": "code",
   "execution_count": null,
   "id": "f26720fa-47e7-41c3-a2e7-93867dac0026",
   "metadata": {
    "scrolled": true
   },
   "outputs": [],
   "source": [
    "# Agregar las métricas de centralidad al DataFrame ANIMES\n",
    "ANIMES = ANIMES.assign(\n",
    "    Closeness_Weighted=g_anime.closeness( weights=g_anime.es['weight']),\n",
    "    Closeness_Unweighted=g_anime.closeness(),\n",
    "    Betweenness_Weighted=g_anime.betweenness(directed=False, weights=g_anime.es['weight']),\n",
    "    Betweenness_Unweighted=g_anime.betweenness(directed=False),\n",
    "    Eigenvector_Weighted=g_anime.eigenvector_centrality(directed=False, weights=g_anime.es['weight']),\n",
    "    Eigenvector_Unweighted=g_anime.eigenvector_centrality(directed=False)\n",
    ")\n",
    "\n",
    "# Mostrar las primeras filas del DataFrame ANIMES con las nuevas columnas\n",
    "ANIMES = ANIMES.merge(anime,left_on='anime',right_on=\"id\",how=\"left\")"
   ]
  },
  {
   "cell_type": "code",
   "execution_count": null,
   "id": "2384738a-7f79-4ada-94ca-a13c9f1cc10e",
   "metadata": {},
   "outputs": [],
   "source": [
    "# Ordenar el DataFrame por las medidas de centralidad y mostrar los 5 principales\n",
    "top_closeness_weighted = ANIMES.sort_values(by='Closeness_Weighted', ascending=False).head(5)\n",
    "top_closeness_unweighted = ANIMES.sort_values(by='Closeness_Unweighted', ascending=False).head(5)\n",
    "top_betweenness_weighted = ANIMES.sort_values(by='Betweenness_Weighted', ascending=False).head(5)\n",
    "top_betweenness_unweighted = ANIMES.sort_values(by='Betweenness_Unweighted', ascending=False).head(5)\n",
    "top_eigenvector_weighted = ANIMES.sort_values(by='Eigenvector_Weighted', ascending=False).head(5)\n",
    "top_eigenvector_unweighted = ANIMES.sort_values(by='Eigenvector_Unweighted', ascending=False).head(5)\n",
    "\n",
    "# Mostrar los resultados\n",
    "print(\"Top 5 Animes con Mayor Closeness Weighted:\")\n",
    "print(top_closeness_weighted[['Name', 'Closeness_Weighted']])\n",
    "print(\"\\nTop 5 Animes con Mayor Closeness Unweighted:\")\n",
    "print(top_closeness_unweighted[['Name', 'Closeness_Unweighted']])\n",
    "print(\"\\nTop 5 Animes con Mayor Betweenness Weighted:\")\n",
    "print(top_betweenness_weighted[['Name', 'Betweenness_Weighted']])\n",
    "print(\"\\nTop 5 Animes con Mayor Betweenness Unweighted:\")\n",
    "print(top_betweenness_unweighted[['Name', 'Betweenness_Unweighted']])\n",
    "print(\"\\nTop 5 Animes con Mayor Eigenvector Weighted:\")\n",
    "print(top_eigenvector_weighted[['Name', 'Eigenvector_Weighted']])\n",
    "print(\"\\nTop 5 Animes con Mayor Eigenvector Unweighted:\")\n",
    "print(top_eigenvector_unweighted[['Name', 'Eigenvector_Unweighted']])\n"
   ]
  },
  {
   "cell_type": "markdown",
   "id": "3421ec52-a68e-4fe1-9a5f-566da61d185f",
   "metadata": {},
   "source": [
    "**(b)** \n",
    "Visualizar la red con un diseño adecuado teniendo en cuenta la centralidad d \n",
    "los nodos."
   ]
  },
  {
   "cell_type": "code",
   "execution_count": null,
   "id": "46db593b-2166-445e-a8f8-a91e4343b609",
   "metadata": {},
   "outputs": [],
   "source": [
    "ig.summary(g_anime)"
   ]
  },
  {
   "cell_type": "markdown",
   "id": "651f309a-b5a0-4b50-a39e-1c2c410f3d4b",
   "metadata": {},
   "source": [
    "**(c)** Identificar los puntos de articulación, los puntos aislados y las componentes.\n"
   ]
  },
  {
   "cell_type": "code",
   "execution_count": null,
   "id": "98bb6a38-c2fd-443a-9d55-08dd6570d1b2",
   "metadata": {},
   "outputs": [],
   "source": [
    "# Descomponer el grafo y contar los componentes\n",
    "componentes = g_anime.decompose()\n",
    "num_componentes = len(componentes)\n",
    "\n",
    "# Imprimir la longitud de cada componente y enumerarlas\n",
    "i=0\n",
    "for  componente in componentes:\n",
    "    i=i+1\n",
    "    longitud = len(componente.vs)\n",
    "    print(f\"Componente {i}: Longitud {longitud}\")"
   ]
  },
  {
   "cell_type": "code",
   "execution_count": null,
   "id": "507aef5a-8860-4f02-8993-a9c9ed8ccbe7",
   "metadata": {
    "scrolled": true
   },
   "outputs": [],
   "source": [
    "# Encontrar los clanes en el grafo\n",
    "clanes = g_anime.maximal_cliques()\n",
    "\n",
    "# Imprimir el número de vértices en cada clan\n",
    "print(\"Número de vértices por clan:\")\n",
    "for i, clan in enumerate(clanes, 1):\n",
    "    num_vertices_clan = len(clan)\n",
    "    print(f\"Clan {i}: {num_vertices_clan} vértices\")"
   ]
  },
  {
   "cell_type": "code",
   "execution_count": null,
   "id": "c4eae3eb-766e-4cb2-9369-d271f2757a0b",
   "metadata": {},
   "outputs": [],
   "source": [
    "g_anime.articulation_points()"
   ]
  },
  {
   "cell_type": "markdown",
   "id": "7547a50c-da34-47ef-9bee-0ad804fa35c1",
   "metadata": {},
   "source": [
    "**(d)** Hacer la distribución de las distancia geodésica.\n"
   ]
  },
  {
   "cell_type": "code",
   "execution_count": null,
   "id": "f0429d64-b306-4178-b7b3-cf2fc8bb2454",
   "metadata": {},
   "outputs": [],
   "source": [
    "# Obtener los grados de salida y entrada de cada nodo\n",
    "degree =g_anime.degree(mode='all')\n",
    "strength=g_anime.strength(weights=g_anime.es['weight'])\n",
    "\n",
    "# Crear DataFrames separados para los grados de salida y entrada\n",
    "degree = pd.DataFrame(degree, columns=['degree'])\n",
    "strength=pd.DataFrame(strength, columns=['strength'])\n",
    "# Concatenar los DataFrames en uno solo\n",
    "degree = pd.concat([degree, strength], axis=1)\n",
    "\n",
    "degree"
   ]
  },
  {
   "cell_type": "code",
   "execution_count": null,
   "id": "4f378ccc-1ff2-4890-af5f-19fdb90e0384",
   "metadata": {},
   "outputs": [],
   "source": [
    "# Crear el histograma\n",
    "histograma = (\n",
    "    ggplot(degree, aes(x='strength', fill='..count..')) +  \n",
    "    geom_histogram(color='black') +\n",
    "    labs(title='', x='strength', y='Frecuencia') +\n",
    "    theme(axis_text_x=element_text(angle=90, hjust=1),  # Rotar etiquetas del eje x\n",
    "          panel_background=element_rect(fill='#f2f9ff')) +  # Color de fondo del panel\n",
    "    scale_fill_gradient(low=\"#b3cde0\", high=\"#011f4b\")  # Escala de colores\n",
    ")\n",
    "histograma.save(\"fuerza.png\", dpi=300)\n",
    "# Mostrar el histograma\n",
    "print(histograma)"
   ]
  },
  {
   "cell_type": "markdown",
   "id": "38425aba-77bf-426b-af6a-1b0678becdfc",
   "metadata": {},
   "source": [
    "**(f)** Hacer un censo de los clanes y calcular el número clan.\n"
   ]
  },
  {
   "cell_type": "code",
   "execution_count": null,
   "id": "4b9bb93e-65da-4eeb-a54f-537ef20a58b5",
   "metadata": {},
   "outputs": [],
   "source": [
    "ig.summary(g_anime)"
   ]
  },
  {
   "cell_type": "code",
   "execution_count": null,
   "id": "8156c57b-28cb-4b62-bbc7-b90b1d02d6ec",
   "metadata": {},
   "outputs": [],
   "source": [
    "len(g_anime.largest_cliques()[0])"
   ]
  },
  {
   "cell_type": "markdown",
   "id": "7aed7ac5-960b-482c-b101-bb19085037ee",
   "metadata": {},
   "source": [
    "**(g)** Calcular la densidad junto con el coeficiente de agrupamiento de la red.\n"
   ]
  },
  {
   "cell_type": "code",
   "execution_count": null,
   "id": "299aeadf-ac83-4f9d-8e6a-5f496fb40998",
   "metadata": {},
   "outputs": [],
   "source": [
    "g_anime.density()"
   ]
  },
  {
   "cell_type": "code",
   "execution_count": null,
   "id": "87dcde75-5080-453d-8462-9b6ff3a72b09",
   "metadata": {},
   "outputs": [],
   "source": [
    "g_anime.transitivity_avglocal_undirected()# transitividad"
   ]
  },
  {
   "cell_type": "code",
   "execution_count": null,
   "id": "628f3044-4d9d-469f-abf4-08976a47d8e5",
   "metadata": {},
   "outputs": [],
   "source": [
    "ig.summary(g_anime)"
   ]
  },
  {
   "cell_type": "markdown",
   "id": "89b0426d-8673-4e79-aeaf-4deff25f8e8a",
   "metadata": {},
   "source": [
    "**(h)** Particionar la red usando tres métodos de agrupamiento de su elección. Visualizar los resultados obtenidos.\n",
    "\n"
   ]
  },
  {
   "cell_type": "code",
   "execution_count": null,
   "id": "379d9403-541b-4a95-afd5-0d18a1aba4a6",
   "metadata": {},
   "outputs": [],
   "source": [
    "random.seed(12)\n",
    "ak_fg=g_anime.community_fastgreedy()"
   ]
  },
  {
   "cell_type": "code",
   "execution_count": null,
   "id": "cbc04332-38d0-48e5-9973-6c70b7bc7556",
   "metadata": {},
   "outputs": [],
   "source": [
    "random.seed(12)\n",
    "ak_im=g_anime.community_infomap()"
   ]
  },
  {
   "cell_type": "code",
   "execution_count": null,
   "id": "6f347ad2-7100-4bd5-862d-f07086380840",
   "metadata": {},
   "outputs": [],
   "source": [
    "random.seed(12)\n",
    "ak_lp=g_anime.community_label_propagation()"
   ]
  },
  {
   "cell_type": "code",
   "execution_count": null,
   "id": "34529f4a-5c9e-4419-a76b-415bec42c53d",
   "metadata": {},
   "outputs": [],
   "source": [
    "random.seed(12)\n",
    "ak_le=g_anime.community_leading_eigenvector()"
   ]
  },
  {
   "cell_type": "code",
   "execution_count": null,
   "id": "f6a147ab-4b36-4654-bf6c-79a8b76eaa55",
   "metadata": {},
   "outputs": [],
   "source": [
    "random.seed(12)\n",
    "ak_fg_w=g_anime.community_fastgreedy(weights=g_anime.es['weight'])"
   ]
  },
  {
   "cell_type": "code",
   "execution_count": null,
   "id": "e274e186-59bf-4fe9-83bc-2d9f05bf732d",
   "metadata": {},
   "outputs": [],
   "source": [
    "random.seed(12)\n",
    "ak_im_w=g_anime.community_infomap(edge_weights= g_anime.es['weight'])"
   ]
  },
  {
   "cell_type": "code",
   "execution_count": null,
   "id": "5e4a402f-f924-4b5c-b284-245932507f2d",
   "metadata": {},
   "outputs": [],
   "source": [
    "random.seed(12)\n",
    "ak_lp_w=g_anime.community_label_propagation(weights= g_anime.es['weight'])"
   ]
  },
  {
   "cell_type": "code",
   "execution_count": null,
   "id": "bde46b56-82f8-42a6-af47-50ee3b5f27b3",
   "metadata": {},
   "outputs": [],
   "source": [
    "random.seed(12)\n",
    "ak_le_w=g_anime.community_leading_eigenvector(weights= g_anime.es['weight'])"
   ]
  },
  {
   "cell_type": "code",
   "execution_count": null,
   "id": "6019b045-bc2f-4ec9-a40c-8ec123128413",
   "metadata": {},
   "outputs": [],
   "source": [
    "random.seed(12)\n",
    "#ak_eb_w=g_anime.community_edge_betweenness(weights=binario)"
   ]
  },
  {
   "cell_type": "code",
   "execution_count": null,
   "id": "29a7bcbc-ca41-43d3-83fc-aa5b6e43c6ec",
   "metadata": {},
   "outputs": [],
   "source": [
    "print(\"Modularidad de fastgreedy:\", round(ak_fg.as_clustering().modularity, 3))\n",
    "#print(\"Modularidad de edge betweenness:\", round(ak_eb.as_clustering().modularity, 3))\n",
    "print(\"Modularidad de infomap:\", round(ak_im.modularity, 3))\n",
    "print(\"Modularidad de label_propagation:\", round(ak_lp.modularity, 3))\n",
    "print(\"Modularidad de leading_eigenvector:\", round(ak_le.modularity, 3))\n",
    "#print(\"Modularidad de edge betweenness weighted:\", round(ak_eb_w.as_clustering().modularity, 3))\n",
    "print(\"Modularidad de fastgreedy weighted:\", round(ak_fg_w.as_clustering().modularity, 3))\n",
    "print(\"Modularidad de infomap weighted:\", round(ak_im_w.modularity, 3))\n",
    "print(\"Modularidad de label_propagation weighted:\", round(ak_lp_w.modularity, 3))\n",
    "print(\"Modularidad de leading_eigenvector weighted:\", round(ak_le_w.modularity, 3))\n"
   ]
  },
  {
   "cell_type": "code",
   "execution_count": null,
   "id": "ccd9feef-eef9-44aa-8432-9087e490b9f2",
   "metadata": {},
   "outputs": [],
   "source": [
    "graficoc=ig.plot(g_anime,\n",
    "         edge_color =adjustcolor('gray',0.004),\n",
    "        vertex_color= get_colors_for_list(ak_le_w.membership),\n",
    "        vertex_size=[20 if cg / max * 500 > 20 else (cg / max * 500 if cg / max * 500 > 3 else 3) for cg in betweenness],\n",
    "        layout=layout)\n",
    "graficoc.save(\"graficoc.png\")"
   ]
  },
  {
   "cell_type": "code",
   "execution_count": null,
   "id": "3eca2e7c-4cd9-43ba-b81e-188fe656b0fd",
   "metadata": {},
   "outputs": [],
   "source": [
    "set(ak_le_w.membership)"
   ]
  },
  {
   "cell_type": "code",
   "execution_count": null,
   "id": "a1de0d24-978e-436b-ae18-cfe5b95c688b",
   "metadata": {},
   "outputs": [],
   "source": [
    "# Lee la imagen\n",
    "image = plt.imread(\"graficoc.png\")\n",
    "\n",
    "# Plotea la imagen\n",
    "plt.imshow(image)\n",
    "plt.axis('off')  # Desactiva los ejes\n",
    "plt.show()"
   ]
  },
  {
   "cell_type": "code",
   "execution_count": null,
   "id": "05fead4b-87f1-49cd-b6cb-8df57f02a906",
   "metadata": {},
   "outputs": [],
   "source": [
    "shortest_paths = g_anime.shortest_paths(source=0,weights=g_anime.es['weight'])[0]"
   ]
  },
  {
   "cell_type": "code",
   "execution_count": null,
   "id": "52bffc83-193d-457d-9608-5250b4ad81ae",
   "metadata": {
    "scrolled": true
   },
   "outputs": [],
   "source": [
    "shortest_paths"
   ]
  },
  {
   "cell_type": "markdown",
   "id": "e5b926f5-2c14-4b91-ba06-72abf0fff04c",
   "metadata": {},
   "source": [
    "**(i)** Hacer un análisis de asortatividad de la red.\n"
   ]
  },
  {
   "cell_type": "code",
   "execution_count": null,
   "id": "a9bba1df-6779-4623-a10f-7598d37ec826",
   "metadata": {},
   "outputs": [],
   "source": [
    "g_anime.assortativity_degree(directed=False)"
   ]
  },
  {
   "cell_type": "markdown",
   "id": "d56f9022-6137-49fa-91cc-739b6133d0c5",
   "metadata": {},
   "source": [
    "# Red Animes Binaria no dirigida"
   ]
  },
  {
   "cell_type": "code",
   "execution_count": null,
   "id": "4ab12e94-4713-4680-9204-24c1088ca480",
   "metadata": {},
   "outputs": [],
   "source": [
    "A=g_anime.get_adjacency(attribute = \"weight\")"
   ]
  },
  {
   "cell_type": "code",
   "execution_count": null,
   "id": "4c27bc68-1e3a-4f61-9605-4e36920c8fdb",
   "metadata": {},
   "outputs": [],
   "source": [
    "g_anime.summary()"
   ]
  },
  {
   "cell_type": "code",
   "execution_count": null,
   "id": "19dce9cb-d104-4d79-988f-ff63cb55c865",
   "metadata": {},
   "outputs": [],
   "source": [
    "conteo=(usuarios\n",
    ".groupby([\"anime_id\"])\n",
    ".agg(conteo=(\"anime_id\",\"count\")).reset_index()\n",
    ")\n"
   ]
  },
  {
   "cell_type": "code",
   "execution_count": null,
   "id": "3b885d2a-4ecb-4042-8235-3f4c75463bdd",
   "metadata": {},
   "outputs": [],
   "source": [
    "conteo=(usuarios\n",
    ".groupby([\"anime_id\"])\n",
    ".agg(conteo=(\"anime_id\",\"count\")).reset_index()\n",
    ")\n",
    "\n",
    "usuarios=usuarios.merge(conteo,left_on=\"anime_id\",right_on=\"anime_id\",how=\"left\")\n"
   ]
  },
  {
   "cell_type": "code",
   "execution_count": null,
   "id": "80493fbe-a581-4ab7-ad0a-e808a17c7d38",
   "metadata": {},
   "outputs": [],
   "source": [
    "conteo=usuarios['conteo']"
   ]
  },
  {
   "cell_type": "code",
   "execution_count": null,
   "id": "0a8b310b-d237-4215-ac17-4724206b9361",
   "metadata": {},
   "outputs": [],
   "source": [
    "A.shape[1]"
   ]
  },
  {
   "cell_type": "code",
   "execution_count": null,
   "id": "3de7cadd-345f-4eac-90ac-14b0d026db76",
   "metadata": {},
   "outputs": [],
   "source": [
    "X = np.empty((0, A.shape[1]))\n",
    "\n",
    "# Función que se aplicará a cada fila\n",
    "def funcion(x, factor):\n",
    "    return np.where(factor * 0.75 <= x, 1, 0)\n",
    "\n",
    "# Iterar sobre los índices\n",
    "for i in range(A.shape[0]):\n",
    "    fila_transformada = funcion(A[i, :], usuarios['conteo'][i])\n",
    "    X = np.vstack([X, fila_transformada])\n"
   ]
  },
  {
   "cell_type": "code",
   "execution_count": null,
   "id": "4d270086-5d56-4020-8a78-ba95fcc554b5",
   "metadata": {},
   "outputs": [],
   "source": [
    "g2=ig.Graph.Adjacency(X)"
   ]
  },
  {
   "cell_type": "code",
   "execution_count": null,
   "id": "38bc13f2-c0ca-438e-ab44-85a4f215da56",
   "metadata": {},
   "outputs": [],
   "source": [
    "g_anime2=g2.as_undirected()"
   ]
  },
  {
   "cell_type": "code",
   "execution_count": null,
   "id": "b93b2cc5-9114-4d71-8ad8-0ed77265abcd",
   "metadata": {},
   "outputs": [],
   "source": [
    "random.seed(12)\n",
    "betweenness=g_anime2.betweenness()\n",
    "max=np.max(betweenness)\n",
    "g_anime2.vs['color'] = adjustcolor('pink',0.5)\n",
    "grafico2=ig.plot(g_anime2,\n",
    "               edge_color =adjustcolor('gray',0.025),\n",
    "               vertex_frame_color =adjustcolor('purple',0.5),\n",
    "               vertex_size=[25 if cg / max * 500 > 25 else (cg / max * 500 if cg / max * 500 > 3 else 3) for cg in betweenness],\n",
    "               layout=layout)\n",
    "\n",
    "grafico2.save(\"grafico2.png\")"
   ]
  },
  {
   "cell_type": "code",
   "execution_count": null,
   "id": "fe0c95d7-69ea-4282-8a43-134f3afc3e0d",
   "metadata": {},
   "outputs": [],
   "source": [
    "# Lee la imagen\n",
    "image = plt.imread(\"grafico2.png\")\n",
    "\n",
    "# Plotea la imagen\n",
    "plt.imshow(image)\n",
    "plt.axis('off')  # Desactiva los ejes\n",
    "plt.show()"
   ]
  },
  {
   "cell_type": "code",
   "execution_count": null,
   "id": "b30832ab-556b-4c5a-bbc8-22c89123d379",
   "metadata": {},
   "outputs": [],
   "source": [
    "ANIMES = pd.DataFrame((usuarios['anime_id'].unique(),  # Obtener valores únicos de la segunda columna\n",
    "                  (np.full(len(usuarios['anime_id'].unique()), len(usuarios['user_id'].unique())) + range(len(usuarios['anime_id'].unique())))),  # Generar identificadores únicos\n",
    "                      #ya hay identificadores unicos para todos los usuarios\n",
    "                      # toca generar identificadores unicos para todos los animes\n",
    "                 index=['anime', 'Identificador']).T  # Transponer para obtener un DataFrame\n",
    "# Agregar las métricas de centralidad al DataFrame ANIMES\n",
    "ANIMES = ANIMES.assign(\n",
    "   \n",
    "    Closeness_Unweighted=g_anime2.closeness(),\n",
    "\n",
    "    Betweenness_Unweighted=g_anime2.betweenness(directed=False),\n",
    "\n",
    "    Eigenvector_Unweighted=g_anime2.eigenvector_centrality(directed=False)\n",
    ")\n",
    "\n",
    "# Mostrar las primeras filas del DataFrame ANIMES con las nuevas columnas\n",
    "ANIMES = ANIMES.merge(anime,left_on='anime',right_on=\"id\",how=\"left\")\n",
    "\n",
    "# Ordenar el DataFrame por las medidas de centralidad y mostrar los 5 principales\n",
    "top_closeness_unweighted = ANIMES.sort_values(by='Closeness_Unweighted', ascending=False).head(5)\n",
    "top_betweenness_unweighted = ANIMES.sort_values(by='Betweenness_Unweighted', ascending=False).head(5)\n",
    "top_eigenvector_unweighted = ANIMES.sort_values(by='Eigenvector_Unweighted', ascending=False).head(5)\n",
    "\n",
    "# Mostrar los resultados\n",
    "print(\"\\nTop 5 Animes con Mayor Closeness Unweighted:\")\n",
    "print(top_closeness_unweighted[['Name', 'Closeness_Unweighted']])\n",
    "print(\"\\nTop 5 Animes con Mayor Betweenness Unweighted:\")\n",
    "print(top_betweenness_unweighted[['Name', 'Betweenness_Unweighted']])\n",
    "print(\"\\nTop 5 Animes con Mayor Eigenvector Unweighted:\")\n",
    "print(top_eigenvector_unweighted[['Name', 'Eigenvector_Unweighted']])"
   ]
  },
  {
   "cell_type": "code",
   "execution_count": null,
   "id": "28578ff9-5a53-4242-8498-33fd1d9d8149",
   "metadata": {},
   "outputs": [],
   "source": [
    "\n",
    "# Obtener los grados de salida y entrada de cada nodo\n",
    "degree =g_anime2.degree(mode='all')\n",
    "\n",
    "# Crear DataFrames separados para los grados de salida y entrada\n",
    "degree = pd.DataFrame(degree, columns=['degree'])\n",
    "\n",
    "degree"
   ]
  },
  {
   "cell_type": "code",
   "execution_count": null,
   "id": "71090a50-cfb3-4e85-a57f-27e585832041",
   "metadata": {},
   "outputs": [],
   "source": [
    "# Crear el histograma\n",
    "histogramadegree = (\n",
    "    ggplot(degree, aes(x='degree', fill='..count..')) +  \n",
    "    geom_histogram(color='black') +\n",
    "    labs(title='', x='degree', y='Frecuencia') +\n",
    "    theme(axis_text_x=element_text(angle=90, hjust=1),  # Rotar etiquetas del eje x\n",
    "          panel_background=element_rect(fill='#f2f9ff')) +  # Color de fondo del panel\n",
    "    scale_fill_gradient(low=\"#b3cde0\", high=\"#011f4b\")  # Escala de colores\n",
    ")\n",
    "histogramadegree.save(\"degree.png\", dpi=300)\n",
    "# Mostrar el histograma\n",
    "print(histogramadegree)"
   ]
  },
  {
   "cell_type": "code",
   "execution_count": null,
   "id": "3ffd26e6-59f0-4a66-ad72-11b2821a6c5e",
   "metadata": {},
   "outputs": [],
   "source": [
    "\n",
    "g_anime2.density()"
   ]
  },
  {
   "cell_type": "code",
   "execution_count": null,
   "id": "2725a3a5-7991-423d-9234-b6fbc655d5cb",
   "metadata": {},
   "outputs": [],
   "source": [
    " g_anime2.transitivity_avglocal_undirected()# transitividad"
   ]
  },
  {
   "cell_type": "code",
   "execution_count": null,
   "id": "a5672360-61ca-4e13-9f46-3133d3b059c1",
   "metadata": {},
   "outputs": [],
   "source": [
    " g_anime2 =  g_anime2.clusters().giant()"
   ]
  },
  {
   "cell_type": "code",
   "execution_count": null,
   "id": "884f1d55-0fc1-44c0-9381-a786582bbd03",
   "metadata": {},
   "outputs": [],
   "source": [
    "random.seed(12)\n",
    "ak_fg=g_anime2.community_fastgreedy()\n",
    "ak_im=g_anime2.community_infomap()\n",
    "ak_lp=g_anime2.community_label_propagation()\n",
    "ak_le=g_anime2.community_leading_eigenvector()\n",
    "print(\"Modularidad de fastgreedy:\", round(ak_fg.as_clustering().modularity, 3))\n",
    "\n",
    "print(\"Modularidad de infomap:\", round(ak_im.modularity, 3))\n",
    "print(\"Modularidad de label_propagation:\", round(ak_lp.modularity, 3))\n",
    "print(\"Modularidad de leading_eigenvector:\", round(ak_le.modularity, 3))\n",
    "\n"
   ]
  },
  {
   "cell_type": "code",
   "execution_count": null,
   "id": "21fe32f9-4d4d-4ec9-acb6-3e79ed9bbcff",
   "metadata": {},
   "outputs": [],
   "source": [
    "set(ak_le.membership)"
   ]
  },
  {
   "cell_type": "code",
   "execution_count": null,
   "id": "479e17ed-9373-496f-b59f-f77a52d0883b",
   "metadata": {},
   "outputs": [],
   "source": [
    "random.seed(12)\n",
    "layout = g_anime2.layout_davidson_harel()"
   ]
  },
  {
   "cell_type": "code",
   "execution_count": null,
   "id": "4baec075-816e-415e-82fb-d196ea75aa59",
   "metadata": {},
   "outputs": [],
   "source": [
    "\n",
    "ig.plot(g_anime2,\n",
    "        edge_color =adjustcolor('gray',0.1),\n",
    "        vertex_color= get_colors_for_list(ak_le.membership,alpha=0.7),\n",
    "        vertex_size=[20 if cg / max * 500 > 20 else (cg / max * 500 if cg / max * 500 > 5 else 5) for cg in g_anime2.betweenness()],\n",
    "        layout=layout)"
   ]
  }
 ],
 "metadata": {
  "kernelspec": {
   "display_name": "Python 3 (ipykernel)",
   "language": "python",
   "name": "python3"
  },
  "language_info": {
   "codemirror_mode": {
    "name": "ipython",
    "version": 3
   },
   "file_extension": ".py",
   "mimetype": "text/x-python",
   "name": "python",
   "nbconvert_exporter": "python",
   "pygments_lexer": "ipython3",
   "version": "3.12.3"
  }
 },
 "nbformat": 4,
 "nbformat_minor": 5
}
