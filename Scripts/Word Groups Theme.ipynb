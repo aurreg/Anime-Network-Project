{
 "cells": [
  {
   "cell_type": "code",
   "execution_count": 1,
   "id": "c672196f-25b5-4516-b053-3f3a5677d800",
   "metadata": {},
   "outputs": [],
   "source": [
    "import pandas as pd   # For data manipulations\n",
    "import numpy as np    # For maths\n",
    "import igraph as ig   # For networks \n",
    "from openai import OpenAI   # AI implementations\n"
   ]
  },
  {
   "cell_type": "code",
   "execution_count": 3,
   "id": "d6317d2e-302d-47c7-8305-fd41f8be8aaa",
   "metadata": {},
   "outputs": [],
   "source": [
    "from dotenv import load_dotenv\n",
    "\n",
    "import os\n",
    "load_dotenv()\n"
   ]
  },
  {
   "cell_type": "code",
   "execution_count": 5,
   "id": "530998d1-99f5-4dd6-9150-1273e78452d6",
   "metadata": {},
   "outputs": [],
   "source": [
    "\n",
    "\n",
    "data_folder_path = os.path.dirname(os.getcwd()) + os.sep + 'Outputs' + os.sep\n"
   ]
  },
  {
   "cell_type": "code",
   "execution_count": 6,
   "id": "46e5c9d6-9f64-490b-8feb-8339819d6d9a",
   "metadata": {},
   "outputs": [
    {
     "data": {
      "text/html": [
       "<div>\n",
       "<style scoped>\n",
       "    .dataframe tbody tr th:only-of-type {\n",
       "        vertical-align: middle;\n",
       "    }\n",
       "\n",
       "    .dataframe tbody tr th {\n",
       "        vertical-align: top;\n",
       "    }\n",
       "\n",
       "    .dataframe thead th {\n",
       "        text-align: right;\n",
       "    }\n",
       "</style>\n",
       "<table border=\"1\" class=\"dataframe\">\n",
       "  <thead>\n",
       "    <tr style=\"text-align: right;\">\n",
       "      <th></th>\n",
       "      <th>word</th>\n",
       "      <th>cluster</th>\n",
       "    </tr>\n",
       "  </thead>\n",
       "  <tbody>\n",
       "    <tr>\n",
       "      <th>0</th>\n",
       "      <td>music</td>\n",
       "      <td>8</td>\n",
       "    </tr>\n",
       "    <tr>\n",
       "      <th>1</th>\n",
       "      <td>song</td>\n",
       "      <td>4</td>\n",
       "    </tr>\n",
       "    <tr>\n",
       "      <th>2</th>\n",
       "      <td>minna</td>\n",
       "      <td>9</td>\n",
       "    </tr>\n",
       "    <tr>\n",
       "      <th>3</th>\n",
       "      <td>school</td>\n",
       "      <td>13</td>\n",
       "    </tr>\n",
       "    <tr>\n",
       "      <th>4</th>\n",
       "      <td>series</td>\n",
       "      <td>3</td>\n",
       "    </tr>\n",
       "    <tr>\n",
       "      <th>...</th>\n",
       "      <td>...</td>\n",
       "      <td>...</td>\n",
       "    </tr>\n",
       "    <tr>\n",
       "      <th>239</th>\n",
       "      <td>commercial</td>\n",
       "      <td>3</td>\n",
       "    </tr>\n",
       "    <tr>\n",
       "      <th>240</th>\n",
       "      <td>independent</td>\n",
       "      <td>18</td>\n",
       "    </tr>\n",
       "    <tr>\n",
       "      <th>241</th>\n",
       "      <td>popular</td>\n",
       "      <td>3</td>\n",
       "    </tr>\n",
       "    <tr>\n",
       "      <th>242</th>\n",
       "      <td>fierce</td>\n",
       "      <td>6</td>\n",
       "    </tr>\n",
       "    <tr>\n",
       "      <th>243</th>\n",
       "      <td>recap</td>\n",
       "      <td>12</td>\n",
       "    </tr>\n",
       "  </tbody>\n",
       "</table>\n",
       "<p>244 rows × 2 columns</p>\n",
       "</div>"
      ],
      "text/plain": [
       "            word  cluster\n",
       "0          music        8\n",
       "1           song        4\n",
       "2          minna        9\n",
       "3         school       13\n",
       "4         series        3\n",
       "..           ...      ...\n",
       "239   commercial        3\n",
       "240  independent       18\n",
       "241      popular        3\n",
       "242       fierce        6\n",
       "243        recap       12\n",
       "\n",
       "[244 rows x 2 columns]"
      ]
     },
     "execution_count": 6,
     "metadata": {},
     "output_type": "execute_result"
    }
   ],
   "source": [
    "clusters = pd.read_csv(data_folder_path + 'clusters.csv')\n",
    "clusters"
   ]
  },
  {
   "cell_type": "code",
   "execution_count": 7,
   "id": "39e7fc56-9d15-405e-b08c-c2aafaed7ca3",
   "metadata": {},
   "outputs": [],
   "source": [
    "diccionario = {}\n",
    "for i in set(clusters['cluster']):\n",
    "    diccionario['cluster '+str(i)] = clusters.query('cluster==@i')['word'].tolist()\n"
   ]
  },
  {
   "cell_type": "code",
   "execution_count": 8,
   "id": "0d4953ca-1fca-45f6-ae5b-63fb715e59bf",
   "metadata": {},
   "outputs": [],
   "source": [
    "PromptInicio = [\n",
    "    'Utilizando el diccionario de clusters de palabras proporcionado a continuación, extrae el tema o tópico que más se relacione con cada cluster:',\n",
    "    'Ten en cuenta que las palabras fueron obtenidas mediante un método de agrupamiento de una red asociada a bigramas sacados de un texto, también ten en cuenta que las palabras vienen de mayor a menor importancia'\n",
    "]\n",
    "PromptFinal = [\n",
    "    'Al momento de devolver los datos contesta con el siguiente formato: Numerodecluster:[dato] TemaoTopicoPrincipal:[dato] Solo contesta con el formato suministrado. Ten en cuenta que los datos vienen de descripciones de animes'\n",
    "]\n",
    "\n",
    "# Constructing the request by joining prompts, dictionary, and final prompts\n",
    "request = \" \".join(PromptInicio) + str(diccionario) + \" \".join(PromptFinal)\n"
   ]
  },
  {
   "cell_type": "code",
   "execution_count": 9,
   "id": "a20528e8-a1b8-4974-a940-8082745612ee",
   "metadata": {},
   "outputs": [
    {
     "ename": "NameError",
     "evalue": "name 'client' is not defined",
     "output_type": "error",
     "traceback": [
      "\u001b[1;31m---------------------------------------------------------------------------\u001b[0m",
      "\u001b[1;31mNameError\u001b[0m                                 Traceback (most recent call last)",
      "Cell \u001b[1;32mIn[9], line 2\u001b[0m\n\u001b[0;32m      1\u001b[0m request \u001b[38;5;241m=\u001b[39m request\n\u001b[1;32m----> 2\u001b[0m chat_completion \u001b[38;5;241m=\u001b[39m client\u001b[38;5;241m.\u001b[39mchat\u001b[38;5;241m.\u001b[39mcompletions\u001b[38;5;241m.\u001b[39mcreate(\n\u001b[0;32m      3\u001b[0m     messages\u001b[38;5;241m=\u001b[39m[\n\u001b[0;32m      4\u001b[0m         {\n\u001b[0;32m      5\u001b[0m             \u001b[38;5;124m\"\u001b[39m\u001b[38;5;124mrole\u001b[39m\u001b[38;5;124m\"\u001b[39m: \u001b[38;5;124m\"\u001b[39m\u001b[38;5;124muser\u001b[39m\u001b[38;5;124m\"\u001b[39m,\n\u001b[0;32m      6\u001b[0m             \u001b[38;5;124m\"\u001b[39m\u001b[38;5;124mcontent\u001b[39m\u001b[38;5;124m\"\u001b[39m: request,\n\u001b[0;32m      7\u001b[0m         }\n\u001b[0;32m      8\u001b[0m     ],\n\u001b[0;32m      9\u001b[0m     model\u001b[38;5;241m=\u001b[39m\u001b[38;5;124m\"\u001b[39m\u001b[38;5;124mgpt-4-1106-preview\u001b[39m\u001b[38;5;124m\"\u001b[39m,\n\u001b[0;32m     10\u001b[0m     max_tokens\u001b[38;5;241m=\u001b[39m\u001b[38;5;241m2000\u001b[39m,  \u001b[38;5;66;03m# Increase the number of tokens allowed\u001b[39;00m\n\u001b[0;32m     11\u001b[0m     temperature\u001b[38;5;241m=\u001b[39m\u001b[38;5;241m0.7\u001b[39m,  \u001b[38;5;66;03m# Reduce \"creativity\" to obtain precise responses\u001b[39;00m\n\u001b[0;32m     12\u001b[0m     top_p\u001b[38;5;241m=\u001b[39m\u001b[38;5;241m1\u001b[39m,  \u001b[38;5;66;03m# Adjust maximum probability to ensure precise responses\u001b[39;00m\n\u001b[0;32m     13\u001b[0m )\n\u001b[0;32m     14\u001b[0m respuesta \u001b[38;5;241m=\u001b[39m chat_completion\u001b[38;5;241m.\u001b[39mchoices[\u001b[38;5;241m0\u001b[39m]\u001b[38;5;241m.\u001b[39mmessage\u001b[38;5;241m.\u001b[39mcontent\n",
      "\u001b[1;31mNameError\u001b[0m: name 'client' is not defined"
     ]
    }
   ],
   "source": [
    "request = request\n",
    "chat_completion = client.chat.completions.create(\n",
    "    messages=[\n",
    "        {\n",
    "            \"role\": \"user\",\n",
    "            \"content\": request,\n",
    "        }\n",
    "    ],\n",
    "    model=\"gpt-4-1106-preview\",\n",
    "    max_tokens=2000,  # Increase the number of tokens allowed\n",
    "    temperature=0.7,  # Reduce \"creativity\" to obtain precise responses\n",
    "    top_p=1,  # Adjust maximum probability to ensure precise responses\n",
    ")\n",
    "respuesta = chat_completion.choices[0].message.content\n"
   ]
  },
  {
   "cell_type": "code",
   "execution_count": null,
   "id": "81b99909-a821-498c-8882-97a5320ffb47",
   "metadata": {},
   "outputs": [],
   "source": []
  }
 ],
 "metadata": {
  "kernelspec": {
   "display_name": "Python 3 (ipykernel)",
   "language": "python",
   "name": "python3"
  },
  "language_info": {
   "codemirror_mode": {
    "name": "ipython",
    "version": 3
   },
   "file_extension": ".py",
   "mimetype": "text/x-python",
   "name": "python",
   "nbconvert_exporter": "python",
   "pygments_lexer": "ipython3",
   "version": "3.11.7"
  }
 },
 "nbformat": 4,
 "nbformat_minor": 5
}
